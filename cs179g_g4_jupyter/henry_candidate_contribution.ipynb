{
 "cells": [
  {
   "cell_type": "code",
   "execution_count": 1,
   "id": "b021fb84-80c5-49f3-a74e-03918d85c111",
   "metadata": {},
   "outputs": [
    {
     "name": "stderr",
     "output_type": "stream",
     "text": [
      "Setting default log level to \"WARN\".\n",
      "To adjust logging level use sc.setLogLevel(newLevel). For SparkR, use setLogLevel(newLevel).\n"
     ]
    },
    {
     "name": "stdout",
     "output_type": "stream",
     "text": [
      "22/11/14 04:36:38 WARN NativeCodeLoader: Unable to load native-hadoop library for your platform... using builtin-java classes where applicable\n",
      "22/11/14 04:36:39 WARN Utils: Service 'SparkUI' could not bind on port 4040. Attempting port 4041.\n",
      "22/11/14 04:36:39 WARN Utils: Service 'SparkUI' could not bind on port 4041. Attempting port 4042.\n",
      "22/11/14 04:36:39 WARN Utils: Service 'SparkUI' could not bind on port 4042. Attempting port 4043.\n",
      "22/11/14 04:36:39 WARN Utils: Service 'SparkUI' could not bind on port 4043. Attempting port 4044.\n",
      "22/11/14 04:36:39 WARN Utils: Service 'SparkUI' could not bind on port 4044. Attempting port 4045.\n",
      "22/11/14 04:36:39 WARN Utils: Service 'SparkUI' could not bind on port 4045. Attempting port 4046.\n",
      "22/11/14 04:36:39 WARN Utils: Service 'SparkUI' could not bind on port 4046. Attempting port 4047.\n",
      "22/11/14 04:36:41 WARN TaskSetManager: Stage 0 contains a task of very large size (3964 KiB). The maximum recommended task size is 1000 KiB.\n"
     ]
    },
    {
     "name": "stderr",
     "output_type": "stream",
     "text": [
      "                                                                                \r"
     ]
    },
    {
     "name": "stdout",
     "output_type": "stream",
     "text": [
      "22/11/14 04:36:43 WARN TaskSetManager: Stage 1 contains a task of very large size (3964 KiB). The maximum recommended task size is 1000 KiB.\n"
     ]
    },
    {
     "name": "stderr",
     "output_type": "stream",
     "text": [
      "                                                                                \r"
     ]
    },
    {
     "name": "stdout",
     "output_type": "stream",
     "text": [
      "22/11/14 04:36:44 WARN TaskSetManager: Stage 2 contains a task of very large size (3964 KiB). The maximum recommended task size is 1000 KiB.\n"
     ]
    },
    {
     "name": "stderr",
     "output_type": "stream",
     "text": [
      "                                                                                \r"
     ]
    },
    {
     "name": "stdout",
     "output_type": "stream",
     "text": [
      "22/11/14 04:36:45 WARN TaskSetManager: Stage 3 contains a task of very large size (3964 KiB). The maximum recommended task size is 1000 KiB.\n"
     ]
    },
    {
     "name": "stderr",
     "output_type": "stream",
     "text": [
      "                                                                                \r"
     ]
    },
    {
     "name": "stdout",
     "output_type": "stream",
     "text": [
      "22/11/14 04:36:47 WARN TaskSetManager: Stage 4 contains a task of very large size (3964 KiB). The maximum recommended task size is 1000 KiB.\n"
     ]
    },
    {
     "name": "stderr",
     "output_type": "stream",
     "text": [
      "                                                                                \r"
     ]
    },
    {
     "name": "stdout",
     "output_type": "stream",
     "text": [
      "22/11/14 04:36:48 WARN TaskSetManager: Stage 5 contains a task of very large size (3964 KiB). The maximum recommended task size is 1000 KiB.\n",
      "22/11/14 04:36:48 WARN TaskSetManager: Stage 6 contains a task of very large size (3964 KiB). The maximum recommended task size is 1000 KiB.\n"
     ]
    },
    {
     "name": "stderr",
     "output_type": "stream",
     "text": [
      "                                                                                \r"
     ]
    },
    {
     "name": "stdout",
     "output_type": "stream",
     "text": [
      "22/11/14 04:36:50 WARN TaskSetManager: Stage 7 contains a task of very large size (3964 KiB). The maximum recommended task size is 1000 KiB.\n",
      "22/11/14 04:36:51 WARN TaskSetManager: Stage 8 contains a task of very large size (3964 KiB). The maximum recommended task size is 1000 KiB.\n",
      "22/11/14 04:36:51 WARN TaskSetManager: Stage 9 contains a task of very large size (3964 KiB). The maximum recommended task size is 1000 KiB.\n",
      "1 executors, time= 12.177824974060059\n",
      "22/11/14 04:36:53 WARN Utils: Service 'SparkUI' could not bind on port 4040. Attempting port 4041.\n",
      "22/11/14 04:36:53 WARN Utils: Service 'SparkUI' could not bind on port 4041. Attempting port 4042.\n",
      "22/11/14 04:36:53 WARN Utils: Service 'SparkUI' could not bind on port 4042. Attempting port 4043.\n",
      "22/11/14 04:36:53 WARN Utils: Service 'SparkUI' could not bind on port 4043. Attempting port 4044.\n",
      "22/11/14 04:36:53 WARN Utils: Service 'SparkUI' could not bind on port 4044. Attempting port 4045.\n",
      "22/11/14 04:36:53 WARN Utils: Service 'SparkUI' could not bind on port 4045. Attempting port 4046.\n",
      "22/11/14 04:36:53 WARN Utils: Service 'SparkUI' could not bind on port 4046. Attempting port 4047.\n",
      "22/11/14 04:36:53 WARN TaskSetManager: Stage 0 contains a task of very large size (1985 KiB). The maximum recommended task size is 1000 KiB.\n"
     ]
    },
    {
     "name": "stderr",
     "output_type": "stream",
     "text": [
      "                                                                                \r"
     ]
    },
    {
     "name": "stdout",
     "output_type": "stream",
     "text": [
      "22/11/14 04:36:54 WARN TaskSetManager: Stage 1 contains a task of very large size (1985 KiB). The maximum recommended task size is 1000 KiB.\n"
     ]
    },
    {
     "name": "stderr",
     "output_type": "stream",
     "text": [
      "                                                                                \r"
     ]
    },
    {
     "name": "stdout",
     "output_type": "stream",
     "text": [
      "22/11/14 04:36:55 WARN TaskSetManager: Stage 2 contains a task of very large size (1985 KiB). The maximum recommended task size is 1000 KiB.\n",
      "22/11/14 04:36:56 WARN TaskSetManager: Stage 3 contains a task of very large size (1985 KiB). The maximum recommended task size is 1000 KiB.\n"
     ]
    },
    {
     "name": "stderr",
     "output_type": "stream",
     "text": [
      "                                                                                \r"
     ]
    },
    {
     "name": "stdout",
     "output_type": "stream",
     "text": [
      "22/11/14 04:36:58 WARN TaskSetManager: Stage 4 contains a task of very large size (1985 KiB). The maximum recommended task size is 1000 KiB.\n",
      "22/11/14 04:36:58 WARN TaskSetManager: Stage 5 contains a task of very large size (1985 KiB). The maximum recommended task size is 1000 KiB.\n",
      "22/11/14 04:36:59 WARN TaskSetManager: Stage 6 contains a task of very large size (1985 KiB). The maximum recommended task size is 1000 KiB.\n",
      "22/11/14 04:37:00 WARN TaskSetManager: Stage 7 contains a task of very large size (1985 KiB). The maximum recommended task size is 1000 KiB.\n"
     ]
    },
    {
     "name": "stderr",
     "output_type": "stream",
     "text": [
      "                                                                                \r"
     ]
    },
    {
     "name": "stdout",
     "output_type": "stream",
     "text": [
      "22/11/14 04:37:01 WARN TaskSetManager: Stage 8 contains a task of very large size (1985 KiB). The maximum recommended task size is 1000 KiB.\n"
     ]
    },
    {
     "name": "stderr",
     "output_type": "stream",
     "text": [
      "                                                                                \r"
     ]
    },
    {
     "name": "stdout",
     "output_type": "stream",
     "text": [
      "22/11/14 04:37:02 WARN TaskSetManager: Stage 9 contains a task of very large size (1985 KiB). The maximum recommended task size is 1000 KiB.\n",
      "2 executors, time= 9.564661264419556\n",
      "22/11/14 04:37:04 WARN Utils: Service 'SparkUI' could not bind on port 4040. Attempting port 4041.\n",
      "22/11/14 04:37:04 WARN Utils: Service 'SparkUI' could not bind on port 4041. Attempting port 4042.\n",
      "22/11/14 04:37:04 WARN Utils: Service 'SparkUI' could not bind on port 4042. Attempting port 4043.\n",
      "22/11/14 04:37:04 WARN Utils: Service 'SparkUI' could not bind on port 4043. Attempting port 4044.\n",
      "22/11/14 04:37:04 WARN Utils: Service 'SparkUI' could not bind on port 4044. Attempting port 4045.\n",
      "22/11/14 04:37:04 WARN Utils: Service 'SparkUI' could not bind on port 4045. Attempting port 4046.\n",
      "22/11/14 04:37:04 WARN Utils: Service 'SparkUI' could not bind on port 4046. Attempting port 4047.\n",
      "22/11/14 04:37:04 WARN TaskSetManager: Stage 0 contains a task of very large size (1324 KiB). The maximum recommended task size is 1000 KiB.\n"
     ]
    },
    {
     "name": "stderr",
     "output_type": "stream",
     "text": [
      "                                                                                \r"
     ]
    },
    {
     "name": "stdout",
     "output_type": "stream",
     "text": [
      "22/11/14 04:37:05 WARN TaskSetManager: Stage 1 contains a task of very large size (1324 KiB). The maximum recommended task size is 1000 KiB.\n"
     ]
    },
    {
     "name": "stderr",
     "output_type": "stream",
     "text": [
      "                                                                                \r"
     ]
    },
    {
     "name": "stdout",
     "output_type": "stream",
     "text": [
      "22/11/14 04:37:06 WARN TaskSetManager: Stage 2 contains a task of very large size (1324 KiB). The maximum recommended task size is 1000 KiB.\n"
     ]
    },
    {
     "name": "stderr",
     "output_type": "stream",
     "text": [
      "                                                                                \r"
     ]
    },
    {
     "name": "stdout",
     "output_type": "stream",
     "text": [
      "22/11/14 04:37:07 WARN TaskSetManager: Stage 3 contains a task of very large size (1324 KiB). The maximum recommended task size is 1000 KiB.\n",
      "22/11/14 04:37:08 WARN TaskSetManager: Stage 4 contains a task of very large size (1324 KiB). The maximum recommended task size is 1000 KiB.\n"
     ]
    },
    {
     "name": "stderr",
     "output_type": "stream",
     "text": [
      "                                                                                \r"
     ]
    },
    {
     "name": "stdout",
     "output_type": "stream",
     "text": [
      "22/11/14 04:37:09 WARN TaskSetManager: Stage 5 contains a task of very large size (1324 KiB). The maximum recommended task size is 1000 KiB.\n"
     ]
    },
    {
     "name": "stderr",
     "output_type": "stream",
     "text": [
      "                                                                                \r"
     ]
    },
    {
     "name": "stdout",
     "output_type": "stream",
     "text": [
      "22/11/14 04:37:10 WARN TaskSetManager: Stage 6 contains a task of very large size (1324 KiB). The maximum recommended task size is 1000 KiB.\n",
      "22/11/14 04:37:10 WARN TaskSetManager: Stage 7 contains a task of very large size (1324 KiB). The maximum recommended task size is 1000 KiB.\n",
      "22/11/14 04:37:11 WARN TaskSetManager: Stage 8 contains a task of very large size (1324 KiB). The maximum recommended task size is 1000 KiB.\n",
      "22/11/14 04:37:12 WARN TaskSetManager: Stage 9 contains a task of very large size (1324 KiB). The maximum recommended task size is 1000 KiB.\n",
      "3 executors, time= 8.878568410873413\n",
      "22/11/14 04:37:14 WARN Utils: Service 'SparkUI' could not bind on port 4040. Attempting port 4041.\n",
      "22/11/14 04:37:14 WARN Utils: Service 'SparkUI' could not bind on port 4041. Attempting port 4042.\n",
      "22/11/14 04:37:14 WARN Utils: Service 'SparkUI' could not bind on port 4042. Attempting port 4043.\n",
      "22/11/14 04:37:14 WARN Utils: Service 'SparkUI' could not bind on port 4043. Attempting port 4044.\n",
      "22/11/14 04:37:14 WARN Utils: Service 'SparkUI' could not bind on port 4044. Attempting port 4045.\n",
      "22/11/14 04:37:14 WARN Utils: Service 'SparkUI' could not bind on port 4045. Attempting port 4046.\n",
      "22/11/14 04:37:14 WARN Utils: Service 'SparkUI' could not bind on port 4046. Attempting port 4047.\n"
     ]
    },
    {
     "name": "stderr",
     "output_type": "stream",
     "text": [
      "                                                                                \r"
     ]
    },
    {
     "name": "stdout",
     "output_type": "stream",
     "text": [
      "4 executors, time= 9.479448318481445\n",
      "22/11/14 04:37:24 WARN Utils: Service 'SparkUI' could not bind on port 4040. Attempting port 4041.\n",
      "22/11/14 04:37:24 WARN Utils: Service 'SparkUI' could not bind on port 4041. Attempting port 4042.\n",
      "22/11/14 04:37:24 WARN Utils: Service 'SparkUI' could not bind on port 4042. Attempting port 4043.\n",
      "22/11/14 04:37:24 WARN Utils: Service 'SparkUI' could not bind on port 4043. Attempting port 4044.\n",
      "22/11/14 04:37:24 WARN Utils: Service 'SparkUI' could not bind on port 4044. Attempting port 4045.\n",
      "22/11/14 04:37:24 WARN Utils: Service 'SparkUI' could not bind on port 4045. Attempting port 4046.\n",
      "22/11/14 04:37:24 WARN Utils: Service 'SparkUI' could not bind on port 4046. Attempting port 4047.\n"
     ]
    },
    {
     "name": "stderr",
     "output_type": "stream",
     "text": [
      "                                                                                \r"
     ]
    },
    {
     "name": "stdout",
     "output_type": "stream",
     "text": [
      "5 executors, time= 10.316540002822876\n",
      "22/11/14 04:37:36 WARN Utils: Service 'SparkUI' could not bind on port 4040. Attempting port 4041.\n",
      "22/11/14 04:37:36 WARN Utils: Service 'SparkUI' could not bind on port 4041. Attempting port 4042.\n",
      "22/11/14 04:37:36 WARN Utils: Service 'SparkUI' could not bind on port 4042. Attempting port 4043.\n",
      "22/11/14 04:37:36 WARN Utils: Service 'SparkUI' could not bind on port 4043. Attempting port 4044.\n",
      "22/11/14 04:37:36 WARN Utils: Service 'SparkUI' could not bind on port 4044. Attempting port 4045.\n",
      "22/11/14 04:37:36 WARN Utils: Service 'SparkUI' could not bind on port 4045. Attempting port 4046.\n",
      "22/11/14 04:37:36 WARN Utils: Service 'SparkUI' could not bind on port 4046. Attempting port 4047.\n"
     ]
    },
    {
     "name": "stderr",
     "output_type": "stream",
     "text": [
      "                                                                                \r"
     ]
    },
    {
     "name": "stdout",
     "output_type": "stream",
     "text": [
      "6 executors, time= 10.973424673080444\n",
      "22/11/14 04:37:48 WARN Utils: Service 'SparkUI' could not bind on port 4040. Attempting port 4041.\n",
      "22/11/14 04:37:48 WARN Utils: Service 'SparkUI' could not bind on port 4041. Attempting port 4042.\n",
      "22/11/14 04:37:48 WARN Utils: Service 'SparkUI' could not bind on port 4042. Attempting port 4043.\n",
      "22/11/14 04:37:48 WARN Utils: Service 'SparkUI' could not bind on port 4043. Attempting port 4044.\n",
      "22/11/14 04:37:48 WARN Utils: Service 'SparkUI' could not bind on port 4044. Attempting port 4045.\n",
      "22/11/14 04:37:48 WARN Utils: Service 'SparkUI' could not bind on port 4045. Attempting port 4046.\n",
      "22/11/14 04:37:48 WARN Utils: Service 'SparkUI' could not bind on port 4046. Attempting port 4047.\n"
     ]
    },
    {
     "name": "stderr",
     "output_type": "stream",
     "text": [
      "                                                                                \r"
     ]
    },
    {
     "name": "stdout",
     "output_type": "stream",
     "text": [
      "7 executors, time= 9.911319494247437\n",
      "22/11/14 04:37:59 WARN Utils: Service 'SparkUI' could not bind on port 4040. Attempting port 4041.\n",
      "22/11/14 04:37:59 WARN Utils: Service 'SparkUI' could not bind on port 4041. Attempting port 4042.\n",
      "22/11/14 04:37:59 WARN Utils: Service 'SparkUI' could not bind on port 4042. Attempting port 4043.\n",
      "22/11/14 04:37:59 WARN Utils: Service 'SparkUI' could not bind on port 4043. Attempting port 4044.\n",
      "22/11/14 04:37:59 WARN Utils: Service 'SparkUI' could not bind on port 4044. Attempting port 4045.\n",
      "22/11/14 04:37:59 WARN Utils: Service 'SparkUI' could not bind on port 4045. Attempting port 4046.\n",
      "22/11/14 04:37:59 WARN Utils: Service 'SparkUI' could not bind on port 4046. Attempting port 4047.\n"
     ]
    },
    {
     "name": "stderr",
     "output_type": "stream",
     "text": [
      "                                                                                \r"
     ]
    },
    {
     "name": "stdout",
     "output_type": "stream",
     "text": [
      "8 executors, time= 15.399677753448486\n",
      "22/11/14 04:38:16 WARN Utils: Service 'SparkUI' could not bind on port 4040. Attempting port 4041.\n",
      "22/11/14 04:38:16 WARN Utils: Service 'SparkUI' could not bind on port 4041. Attempting port 4042.\n",
      "22/11/14 04:38:16 WARN Utils: Service 'SparkUI' could not bind on port 4042. Attempting port 4043.\n",
      "22/11/14 04:38:16 WARN Utils: Service 'SparkUI' could not bind on port 4043. Attempting port 4044.\n",
      "22/11/14 04:38:16 WARN Utils: Service 'SparkUI' could not bind on port 4044. Attempting port 4045.\n",
      "22/11/14 04:38:16 WARN Utils: Service 'SparkUI' could not bind on port 4045. Attempting port 4046.\n",
      "22/11/14 04:38:16 WARN Utils: Service 'SparkUI' could not bind on port 4046. Attempting port 4047.\n"
     ]
    },
    {
     "name": "stderr",
     "output_type": "stream",
     "text": [
      "                                                                                \r"
     ]
    },
    {
     "name": "stdout",
     "output_type": "stream",
     "text": [
      "9 executors, time= 10.626510620117188\n"
     ]
    }
   ],
   "source": [
    "from time import time\n",
    "from pyspark import SparkContext\n",
    "from pyspark.sql import SparkSession\n",
    "from pyspark.sql.functions import avg, col, collect_list, concat, lit, regexp_replace, round, split, struct, UserDefinedFunction\n",
    "from pyspark.sql.types import StringType, IntegerType\n",
    "\n",
    "for j in range(1,10):\n",
    "    sc = SparkContext(master=f'local[{j}]')\n",
    "    t0 = time()\n",
    "    for i in range(10):\n",
    "        sc.parallelize([1,2] * 1000000).reduce(lambda x,y:x+y)\n",
    "    print(f'{j} executors, time= {time() - t0}')\n",
    "    sc.stop()"
   ]
  },
  {
   "cell_type": "code",
   "execution_count": 6,
   "id": "ea737ba2-1960-42ff-b83e-63bdf4306635",
   "metadata": {},
   "outputs": [
    {
     "name": "stdout",
     "output_type": "stream",
     "text": [
      "+---------+--------------------+--------------------+----------------+--------------+-----------+--------------------+--------+-----------+---------+--------------------+--------+------------+-------+--------+\n",
      "|  CAND_ID|           CAND_NAME|CAND_PTY_AFFILIATION|CAND_ELECTION_YR|CAND_OFFICE_ST|CAND_OFFICE|CAND_OFFICE_DISTRICT|CAND_ICI|CAND_STATUS| CAND_PCC|            CAND_ST1|CAND_ST2|   CAND_CITY|CAND_ST|CAND_ZIP|\n",
      "+---------+--------------------+--------------------+----------------+--------------+-----------+--------------------+--------+-----------+---------+--------------------+--------+------------+-------+--------+\n",
      "|H0AK00105|        LAMB, THOMAS|                 NNE|            2020|            AK|          H|                   0|       C|          N|C00607515|1861 W LAKE LUCIL...|    null|     WASILLA|     AK|   99654|\n",
      "|H0AL01055| CARL, JERRY LEE, JR|                 REP|            2022|            AL|          H|                   1|       I|          C|C00697789|       PO BOX 852138|    null|      MOBILE|     AL|   36685|\n",
      "|H0AL01063|LAMBERT, DOUGLAS ...|                 REP|            2020|            AL|          H|                   1|       O|          P|C00701557|7194 STILLWATER BLVD|    null|SPANISH FORT|     AL|   36527|\n",
      "|H0AL01097|     AVERHART, JAMES|                 DEM|            2020|            AL|          H|                   1|       O|          P|C00708867|430 SAINT LOUIS S...|    null|      MOBILE|     AL|   36602|\n",
      "|H0AL02087|        ROBY, MARTHA|                 REP|            2020|            AL|          H|                   2|       I|          P|C00462143|                null|    null|  MONTGOMERY|   null|    null|\n",
      "+---------+--------------------+--------------------+----------------+--------------+-----------+--------------------+--------+-----------+---------+--------------------+--------+------------+-------+--------+\n",
      "only showing top 5 rows\n",
      "\n"
     ]
    },
    {
     "name": "stderr",
     "output_type": "stream",
     "text": [
      "[Stage 13:>                                                         (0 + 2) / 2]\r"
     ]
    },
    {
     "name": "stdout",
     "output_type": "stream",
     "text": [
      "+---------+---------+------+---------------+------------------+--------------+---------+--------------------+-----------+-----+--------+--------+----------+--------------+---------------+---------+---------+----------+--------+-------+---------+-------------------+\n",
      "|  CMTE_ID|AMNDT_IND|RPT_TP|TRANSACTION_PGI|         IMAGE_NUM|TRANSACTION_TP|ENTITY_TP|                NAME|       CITY|STATE|ZIP_CODE|EMPLOYER|OCCUPATION|TRANSACTION_DT|TRANSACTION_AMT| OTHER_ID|  CAND_ID|   TRAN_ID|FILE_NUM|MEMO_CD|MEMO_TEXT|             SUB_ID|\n",
      "+---------+---------+------+---------------+------------------+--------------+---------+--------------------+-----------+-----+--------+--------+----------+--------------+---------------+---------+---------+----------+--------+-------+---------+-------------------+\n",
      "|C00761528|        N|   30R|          R2021|202101279413461164|           24K|      CCM|GEORGIANS FOR KEL...|    ATLANTA|   GA|   30325|    null|      null|      12242020|           2000|C00729608|S0GA00526| SB23.4137| 1492056|   null|     null|4012920212139007940|\n",
      "|C00761528|        N|   30R|          R2021|202101279413461164|           24K|      CCM|   PERDUE FOR SENATE|    ATLANTA|   GA|   30355|    null|      null|      12242020|           2000|C00547570|S4GA11285| SB23.4140| 1492056|   null|     null|4012920212139007941|\n",
      "|C00364471|        N|   30S|          P2026|202101299413910510|           24K|      PAC|FRIENDS OF DICK D...|SPRINGFIELD|   IL|   62705|    null|      null|       1082021|           2500|C00148999|S6IL00151|SB23.11117| 1493396|   null|     null|4020320212140456408|\n",
      "|C00364471|        N|   30S|              P|202101299413910509|           24K|      PAC|FRIENDS OF DICK D...|SPRINGFIELD|   IL|   62705|    null|      null|       1082021|          -2500|C00148999|S6IL00151|SA16.11116| 1493396|   null|     null|4020320212140300000|\n",
      "|C00710780|        T|   TER|          G2020|202101279413440230|           24K|      CCM| WARNOCK FOR GEORGIA|    DECATUR|   GA|   30031|    null|      null|      11172020|           1500|C00736876|S0GA00559| SB21.4225| 1491682|   null|     null|4020320212018112012|\n",
      "+---------+---------+------+---------------+------------------+--------------+---------+--------------------+-----------+-----+--------+--------+----------+--------------+---------------+---------+---------+----------+--------+-------+---------+-------------------+\n",
      "only showing top 5 rows\n",
      "\n"
     ]
    },
    {
     "name": "stderr",
     "output_type": "stream",
     "text": [
      "                                                                                \r"
     ]
    }
   ],
   "source": [
    "spark = SparkSession.builder.master(\"local[*]\").appName('candidate_contribution').getOrCreate()\n",
    "cn = spark.read.format(\"csv\").options(delimiter='|',inferschema='true',header='true').load('data/cn2.txt')\n",
    "cn.show(5)\n",
    "cm_to_cn = spark.read.format(\"csv\").options(delimiter='|',inferschema='true',header='true').load('data/itpas2.txt')\n",
    "cm_to_cn.show(5)"
   ]
  },
  {
   "cell_type": "code",
   "execution_count": 10,
   "id": "826fdeeb-8684-45c7-8cd1-23917405f665",
   "metadata": {},
   "outputs": [
    {
     "name": "stdout",
     "output_type": "stream",
     "text": [
      "+---------+--------------------+-----------+------------+-------+--------+\n",
      "|  CAND_ID|CAND_PTY_AFFILIATION|CAND_OFFICE|   CAND_CITY|CAND_ST|CAND_ZIP|\n",
      "+---------+--------------------+-----------+------------+-------+--------+\n",
      "|H0AK00105|                 NNE|          H|     WASILLA|     AK|   99654|\n",
      "|H0AL01055|                 REP|          H|      MOBILE|     AL|   36685|\n",
      "|H0AL01063|                 REP|          H|SPANISH FORT|     AL|   36527|\n",
      "|H0AL01097|                 DEM|          H|      MOBILE|     AL|   36602|\n",
      "|H0AL02087|                 REP|          H|  MONTGOMERY|   null|    null|\n",
      "+---------+--------------------+-----------+------------+-------+--------+\n",
      "only showing top 5 rows\n",
      "\n",
      "+---------+-----------+-----+--------+----------+---------------+---------+\n",
      "|  CMTE_ID|       CITY|STATE|ZIP_CODE|OCCUPATION|TRANSACTION_AMT|  CAND_ID|\n",
      "+---------+-----------+-----+--------+----------+---------------+---------+\n",
      "|C00761528|    ATLANTA|   GA|   30325|      null|           2000|S0GA00526|\n",
      "|C00761528|    ATLANTA|   GA|   30355|      null|           2000|S4GA11285|\n",
      "|C00364471|SPRINGFIELD|   IL|   62705|      null|           2500|S6IL00151|\n",
      "|C00364471|SPRINGFIELD|   IL|   62705|      null|          -2500|S6IL00151|\n",
      "|C00710780|    DECATUR|   GA|   30031|      null|           1500|S0GA00559|\n",
      "+---------+-----------+-----+--------+----------+---------------+---------+\n",
      "only showing top 5 rows\n",
      "\n"
     ]
    }
   ],
   "source": [
    "cn = cn.drop(\"CAND_NAME\",\"CAND_ELECTION_YR\",\"CAND_OFFICE_ST\",\"CAND_OFFICE_DISTRICT\",\"CAND_ICI\",\"CAND_STATUS\",\"CAND_PCC\",\"CAND_ST1\",\"CAND_ST2\")\n",
    "cn.show(5)\n",
    "cm_to_cn = cm_to_cn.drop(\"AMNDT_IND\",\"NAME\",\"RPT_TP\",\"TRANSACTION_PGI\",\"IMAGE_NUM\",\"TRANSACTION_TP\",\"ENTITY_TP\",\"EMPLOYER\",\"TRANSACTION_DT\",\"TRAN_ID\",\"FILE_NUM\",\"MEMO_CD\",\"MEMO_TEXT\",\"OTHER_ID\",\"SUB_ID\")\n",
    "cm_to_cn.show(5)"
   ]
  },
  {
   "cell_type": "code",
   "execution_count": 18,
   "id": "4d35747c-e384-4ad9-b3ef-e608c3e4cca9",
   "metadata": {},
   "outputs": [
    {
     "name": "stdout",
     "output_type": "stream",
     "text": [
      "+---------+---------+-----+\n",
      "|      ID1|      ID2|MONEY|\n",
      "+---------+---------+-----+\n",
      "|S0GA00526|S0GA00526| 2000|\n",
      "|S4GA11285|S4GA11285| 2000|\n",
      "|S6IL00151|S6IL00151| 2500|\n",
      "|S6IL00151|S6IL00151|-2500|\n",
      "|S0GA00559|S0GA00559| 1500|\n",
      "+---------+---------+-----+\n",
      "only showing top 5 rows\n",
      "\n"
     ]
    }
   ],
   "source": [
    "cm_to_cn.createOrReplaceTempView(\"cm_to_cn_tb\")\n",
    "cn.createOrReplaceTempView(\"cn_tb\")\n",
    "test1 = spark.sql(\"\"\"\n",
    "SELECT cn_tb.CAND_ID AS ID1, cm_to_cn_tb.CAND_ID AS ID2, cm_to_cn_tb.TRANSACTION_AMT AS MONEY\n",
    "FROM cn_tb \n",
    "INNER JOIN cm_to_cn_tb ON cn_tb.CAND_ID = cm_to_cn_tb.CAND_ID\n",
    "GROUP BY \n",
    "\"\"\").show(5)"
   ]
  },
  {
   "cell_type": "code",
   "execution_count": 46,
   "id": "3bab8e58-4f04-4756-af0c-ef51c22e2d34",
   "metadata": {},
   "outputs": [
    {
     "name": "stderr",
     "output_type": "stream",
     "text": [
      "[Stage 85:>                                                         (0 + 2) / 2]\r"
     ]
    },
    {
     "name": "stdout",
     "output_type": "stream",
     "text": [
      "+---------+--------------------+\n",
      "|       ID|TOTAL_MONEY_RECEIVED|\n",
      "+---------+--------------------+\n",
      "|S2PA00638|            38903105|\n",
      "|S0WI00197|            34196203|\n",
      "|S2OH00436|            27802534|\n",
      "|S0AZ00350|            25549973|\n",
      "|S2AZ00372|            23014646|\n",
      "|S2NV00324|            22005830|\n",
      "|S2GA00225|            19616628|\n",
      "|S0GA00559|            18960083|\n",
      "|S6NV00200|            17637705|\n",
      "|S2NC00505|            17289529|\n",
      "|S2AL00145|            14690730|\n",
      "|H2OR06090|            12244729|\n",
      "|S4GA11285|            11306946|\n",
      "|S8AL00381|            10761238|\n",
      "|S6PA00274|            10194433|\n",
      "|S2MO00544|             9918859|\n",
      "|S2NC00497|             9651107|\n",
      "|S2MO00536|             9649445|\n",
      "|H8MI11254|             9066522|\n",
      "|S0FL00338|             8589525|\n",
      "+---------+--------------------+\n",
      "only showing top 20 rows\n",
      "\n"
     ]
    },
    {
     "name": "stderr",
     "output_type": "stream",
     "text": [
      "                                                                                \r"
     ]
    }
   ],
   "source": [
    "test2 = spark.sql(\"\"\"\n",
    "SELECT\n",
    "    cn_tb.CAND_ID AS ID ,SUM(cm_to_cn_tb.TRANSACTION_AMT) AS TOTAL_MONEY_RECEIVED\n",
    "FROM cm_to_cn_tb\n",
    "LEFT OUTER JOIN cn_tb ON cn_tb.CAND_ID = cm_to_cn_tb.CAND_ID\n",
    "GROUP BY ID\n",
    "ORDER BY TOTAL_MONEY_RECEIVED DESC\n",
    "\n",
    "\"\"\")\n",
    "test2.show()\n",
    "test2.createOrReplaceTempView(\"CnMoneyTablePre\")"
   ]
  },
  {
   "cell_type": "code",
   "execution_count": 44,
   "id": "563d1fd8-d2e8-4914-9a25-1d736e472366",
   "metadata": {},
   "outputs": [
    {
     "name": "stdout",
     "output_type": "stream",
     "text": [
      "root\n",
      " |-- ID: string (nullable = true)\n",
      " |-- donateTable: array (nullable = true)\n",
      " |    |-- element: struct (containsNull = false)\n",
      " |    |    |-- PARTY: string (nullable = true)\n",
      " |    |    |-- OFFICE: string (nullable = true)\n",
      " |    |    |-- CITY: string (nullable = true)\n",
      " |    |    |-- STATE: string (nullable = true)\n",
      " |    |    |-- ZIP_CODE: integer (nullable = true)\n",
      " |    |    |-- TOTAL_MONEY_RECEIVED: long (nullable = true)\n",
      "\n"
     ]
    }
   ],
   "source": [
    "#Nested-loops\n",
    "#Reference from david_analytic_state.ipynb\n",
    "unique = spark.sql(\"\"\"\n",
    "SELECT DISTINCT ID\n",
    "FROM CnMoneyTablePre\n",
    "\"\"\")\n",
    "\n",
    "noName = spark.sql(\"\"\"\n",
    "SELECT ID AS ID, PARTY, OFFICE, CITY, STATE, ZIP_CODE, TOTAL_MONEY_RECEIVED\n",
    "FROM CnMoneyTablePre\n",
    "\"\"\")\n",
    "\n",
    "finalTable = unique.join(\n",
    "    noName\n",
    "        .groupBy(\"ID\")\n",
    "        .agg(collect_list(struct(noName.PARTY, noName.OFFICE, noName.CITY, noName.STATE, noName.ZIP_CODE, noName.TOTAL_MONEY_RECEIVED)).alias(\"donateTable\"))\n",
    "    , \"ID\"\n",
    "    , \"outer\"\n",
    ")\n",
    "\n",
    "finalTable.printSchema()"
   ]
  },
  {
   "cell_type": "code",
   "execution_count": 47,
   "id": "7de13cdc-72ac-4196-a960-be043485d7ba",
   "metadata": {},
   "outputs": [
    {
     "name": "stderr",
     "output_type": "stream",
     "text": [
      "                                                                                \r"
     ]
    }
   ],
   "source": [
    "test2.coalesce(1).write.format('json').save('candidate_total_money')"
   ]
  },
  {
   "cell_type": "code",
   "execution_count": null,
   "id": "555f5399-7d13-4315-957d-115214a97e8c",
   "metadata": {},
   "outputs": [],
   "source": []
  }
 ],
 "metadata": {
  "kernelspec": {
   "display_name": "Python 3 (ipykernel)",
   "language": "python",
   "name": "python3"
  },
  "language_info": {
   "codemirror_mode": {
    "name": "ipython",
    "version": 3
   },
   "file_extension": ".py",
   "mimetype": "text/x-python",
   "name": "python",
   "nbconvert_exporter": "python",
   "pygments_lexer": "ipython3",
   "version": "3.10.6"
  }
 },
 "nbformat": 4,
 "nbformat_minor": 5
}
