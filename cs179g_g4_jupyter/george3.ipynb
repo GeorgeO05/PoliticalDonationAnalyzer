{
 "cells": [
  {
   "cell_type": "code",
   "execution_count": null,
   "id": "160b491d-8add-4d59-8341-32c006dfc3f3",
   "metadata": {},
   "outputs": [],
   "source": [
    "from time import time\n",
    "from pyspark import SparkContext\n",
    "for j in range(1,10):\n",
    "    sc = SparkContext(master=f'local[{j}]')\n",
    "    t0 = time()\n",
    "    for i in range(10):\n",
    "        sc.parallelize([1,2] * 1000000).reduce(lambda x,y:x+y)\n",
    "    print(f'{j} executors, time= {time() - t0}')\n",
    "    sc.stop()"
   ]
  },
  {
   "cell_type": "code",
   "execution_count": 1,
   "id": "f405d69e-61e6-442f-bada-ceb93e0362e0",
   "metadata": {},
   "outputs": [],
   "source": [
    "from pyspark.sql import SparkSession\n",
    "from pyspark.sql.functions import UserDefinedFunction\n",
    "from pyspark.sql.types import StringType,IntegerType,StructType \n",
    "from pyspark.sql.functions import collect_list, split, regexp_replace, col, round,concat,lit,avg\n",
    "from pyspark.sql.functions import avg, col, collect_list, concat, lit, regexp_replace, round, split, struct, UserDefinedFunction"
   ]
  },
  {
   "cell_type": "code",
   "execution_count": 2,
   "id": "c0b75b8e-fbe5-4a84-841b-766e98712312",
   "metadata": {},
   "outputs": [],
   "source": [
    "# Importing packages\t\n",
    "import pyspark\t\n",
    "from pyspark.sql import SparkSession\t\n",
    "from pyspark.sql.window import Window\t\n",
    "from pyspark.sql.functions import dense_rank\t\n",
    "from pyspark.sql.functions import percent_rank\t"
   ]
  },
  {
   "cell_type": "code",
   "execution_count": 3,
   "id": "f0611fef-dde0-4893-8d41-dc90e7d6886b",
   "metadata": {},
   "outputs": [
    {
     "name": "stderr",
     "output_type": "stream",
     "text": [
      "Setting default log level to \"WARN\".\n",
      "To adjust logging level use sc.setLogLevel(newLevel). For SparkR, use setLogLevel(newLevel).\n"
     ]
    },
    {
     "name": "stdout",
     "output_type": "stream",
     "text": [
      "22/12/05 04:49:02 WARN NativeCodeLoader: Unable to load native-hadoop library for your platform... using builtin-java classes where applicable\n",
      "22/12/05 04:49:03 WARN Utils: Service 'SparkUI' could not bind on port 4040. Attempting port 4041.\n"
     ]
    }
   ],
   "source": [
    "spark = SparkSession.builder.master(\"local[*]\").appName('link-mast').getOrCreate()"
   ]
  },
  {
   "cell_type": "code",
   "execution_count": 4,
   "id": "d00d0567-8ab0-4016-b5af-369c36d8ad9f",
   "metadata": {},
   "outputs": [
    {
     "name": "stderr",
     "output_type": "stream",
     "text": [
      "                                                                                \r"
     ]
    },
    {
     "name": "stdout",
     "output_type": "stream",
     "text": [
      "+---------+--------------------+-----+---------------+---------+---------+\n",
      "|  CMTE_ID|                NAME|STATE|TRANSACTION_AMT| OTHER_ID|  CAND_ID|\n",
      "+---------+--------------------+-----+---------------+---------+---------+\n",
      "|C00761528|GEORGIANS FOR KEL...|   GA|           2000|C00729608|S0GA00526|\n",
      "|C00761528|   PERDUE FOR SENATE|   GA|           2000|C00547570|S4GA11285|\n",
      "|C00364471|FRIENDS OF DICK D...|   IL|           2500|C00148999|S6IL00151|\n",
      "|C00364471|FRIENDS OF DICK D...|   IL|          -2500|C00148999|S6IL00151|\n",
      "|C00710780| WARNOCK FOR GEORGIA|   GA|           1500|C00736876|S0GA00559|\n",
      "+---------+--------------------+-----+---------------+---------+---------+\n",
      "only showing top 5 rows\n",
      "\n"
     ]
    }
   ],
   "source": [
    "commToCand = spark.read.format(\"csv\").options(delimiter='|',inferschema='true',header='true').load('data/itpas2.txt')\n",
    "commToCand = commToCand.drop(\"AMNDT_IND\",\"RPT_TP\",\"IMAGE_NUM\",\"ENTITY_TP\",\"CITY\",\"ZIP_CODE\",\"TRANSACTION_PGI\",\"TRANSACTION_TP\",\"EMPLOYER\",\"OCCUPATION\",\"TRANSACTION_DT\",\"TRAN_ID\",\"FILE_NUM\",\"MEMO_CD\",\"MEMO_TEXT\",\"SUB_ID\")\n",
    "commToCand.show(5)"
   ]
  },
  {
   "cell_type": "code",
   "execution_count": 5,
   "id": "45aff87d-0d09-421d-b6dc-707d06da2b5b",
   "metadata": {},
   "outputs": [
    {
     "name": "stdout",
     "output_type": "stream",
     "text": [
      "+---------+--------------------+--------------------+-------------+-------+---------+-------+--------------------+------+--------------------+\n",
      "|  CMTE_ID|             CMTE_NM|             TRES_NM|    CMTE_CITY|CMTE_ST|CMTE_DSGN|CMTE_TP|CMTE_PTY_AFFILIATION|ORG_TP|    CONNECTED_ORG_NM|\n",
      "+---------+--------------------+--------------------+-------------+-------+---------+-------+--------------------+------+--------------------+\n",
      "|C00000059|HALLMARK CARDS, I...|   KLEIN, CASSIE MS.|  KANSAS CITY|     MO|        B|      Q|                 UNK|     C|HALLMARK CARDS, INC.|\n",
      "|C00000422|AMERICAN MEDICAL ...|   WALKER, KEVIN MR.|   WASHINGTON|     DC|        B|      Q|                   -|     -| ALABAMA MEDICAL PAC|\n",
      "|C00000489|D R I V E POLITIC...|       JERRY SIMS JR|OKLAHOMA CITY|     OK|        U|      N|                   -|     L|                   -|\n",
      "|C00000547|KANSAS MEDICAL SO...|C. RICHARD BONEBR...|       TOPEKA|     KS|        U|      Q|                 UNK|     T|                   -|\n",
      "|C00000729|AMERICAN DENTAL A...|NEARY, MATTHEW J DR.|   WASHINGTON|     DC|        B|      Q|                 UNK|     M|AMERICAN DENTAL A...|\n",
      "+---------+--------------------+--------------------+-------------+-------+---------+-------+--------------------+------+--------------------+\n",
      "only showing top 5 rows\n",
      "\n"
     ]
    }
   ],
   "source": [
    "commMast = spark.read.format(\"csv\").options(delimiter='|',inferschema='true',header='true').load('data/cm(1).txt')\n",
    "commMast = commMast.drop(\"CMTE_ST1\",\"CMTE_ST2\",\"CMTE_ZIP\",\"CMTE_FILING_FREQ\",\"CAND_ID\")\n",
    "commMast.show(5)"
   ]
  },
  {
   "cell_type": "code",
   "execution_count": 6,
   "id": "79437dfe-8b7b-4b78-bdd4-4f9eedf36966",
   "metadata": {},
   "outputs": [],
   "source": [
    "commToCand.createOrReplaceTempView(\"tempcommToCand\")\n",
    "commMast.createOrReplaceTempView(\"tempCommMast\")"
   ]
  },
  {
   "cell_type": "code",
   "execution_count": 71,
   "id": "af0e26f5-075d-4d6f-8251-fd9c2eebb99b",
   "metadata": {},
   "outputs": [],
   "source": [
    "commMast.coalesce(1).write.format('json').save('out_cmteMast_clean')"
   ]
  },
  {
   "cell_type": "code",
   "execution_count": 8,
   "id": "417e2ed4-a60f-4e7e-9bf1-20947c7ce234",
   "metadata": {},
   "outputs": [
    {
     "name": "stderr",
     "output_type": "stream",
     "text": [
      "[Stage 7:>                                                          (0 + 2) / 2]\r"
     ]
    },
    {
     "name": "stdout",
     "output_type": "stream",
     "text": [
      "+---------+---------+-------------+\n",
      "|  CMTE_ID| OTHER_ID|TOTAL_DONATED|\n",
      "+---------+---------+-------------+\n",
      "|C00000059|C00670034|         5000|\n",
      "|C00000059|C00395848|         5000|\n",
      "|C00000059|C00718346|         5000|\n",
      "|C00000059|C00359034|         5000|\n",
      "|C00000059|C00326801|         2500|\n",
      "|C00000059|C00540732|         2500|\n",
      "|C00000059|C00704981|         2000|\n",
      "|C00000059|C00458679|         2000|\n",
      "|C00000422|C00409581|        10000|\n",
      "|C00000422|C00468256|        10000|\n",
      "+---------+---------+-------------+\n",
      "only showing top 10 rows\n",
      "\n"
     ]
    },
    {
     "name": "stderr",
     "output_type": "stream",
     "text": [
      "                                                                                \r"
     ]
    },
    {
     "data": {
      "text/plain": [
       "[('CMTE_ID', 'string'), ('OTHER_ID', 'string'), ('TOTAL_DONATED', 'bigint')]"
      ]
     },
     "execution_count": 8,
     "metadata": {},
     "output_type": "execute_result"
    }
   ],
   "source": [
    "table1 = spark.sql(\"\"\"\n",
    "SELECT CMTE_ID, OTHER_ID, SUM(TRANSACTION_AMT) AS TOTAL_DONATED\n",
    "FROM tempcommToCand\n",
    "GROUP BY CMTE_ID, OTHER_ID\n",
    "ORDER BY CMTE_ID asc, SUM(TRANSACTION_AMT) DESC\n",
    "\"\"\")\n",
    "table1.show(10)\n",
    "table1.createOrReplaceTempView(\"temp_table1\")\n",
    "table1.dtypes"
   ]
  },
  {
   "cell_type": "code",
   "execution_count": 9,
   "id": "d5eaafa9-9154-4c64-a4df-106b0938e60a",
   "metadata": {},
   "outputs": [
    {
     "name": "stderr",
     "output_type": "stream",
     "text": [
      "                                                                                \r"
     ]
    },
    {
     "name": "stdout",
     "output_type": "stream",
     "text": [
      "+---------+---------+-------------+-------------+\n",
      "|  CMTE_ID| OTHER_ID|TOTAL_DONATED|donation_rank|\n",
      "+---------+---------+-------------+-------------+\n",
      "|C90021668|H2OH09031|         5471|            1|\n",
      "|C90021650|H2OH13264|         3897|            1|\n",
      "|C90021635|S6PA00274|         9629|            1|\n",
      "|C90021619|S2OH00436|         3907|            1|\n",
      "|C90021569|S2PA00638|        48595|            1|\n",
      "|C90021551|H2NM02191|        51472|            1|\n",
      "|C90021544|H2NY10324|        10000|            1|\n",
      "|C90021536|S0GA00559|        60588|            1|\n",
      "|C90021536|S6PA00274|        52714|            2|\n",
      "|C90021536|S2OH00402|        42226|            3|\n",
      "|C90021536|S6NV00200|        32562|            4|\n",
      "|C90021494|H8MI09118|         2500|            1|\n",
      "|C90021452|S6NV00200|       540687|            1|\n",
      "|C90021452|H2NV04011|       117059|            2|\n",
      "|C90021452|H8NV03036|        96323|            3|\n",
      "|C90021452|H6NV04020|        71102|            4|\n",
      "|C90021411|H2AZ09241|         1582|            1|\n",
      "|C90021403|S0WI00197|         2213|            1|\n",
      "|C90021403|S6NV00200|         2210|            2|\n",
      "|C90021403|S0AZ00350|         2209|            3|\n",
      "+---------+---------+-------------+-------------+\n",
      "only showing top 20 rows\n",
      "\n"
     ]
    },
    {
     "name": "stderr",
     "output_type": "stream",
     "text": [
      "                                                                                \r"
     ]
    },
    {
     "data": {
      "text/plain": [
       "118763"
      ]
     },
     "execution_count": 9,
     "metadata": {},
     "output_type": "execute_result"
    }
   ],
   "source": [
    "table2 = spark.sql(\"\"\"\n",
    "\n",
    "    select CMTE_ID, \n",
    "           OTHER_ID,\n",
    "           TOTAL_DONATED, \n",
    "           row_number() over (partition by CMTE_ID order by TOTAL_DONATED desc) as donation_rank         \n",
    "    from temp_table1\n",
    "    order by CMTE_ID desc, donation_rank asc\n",
    "    \n",
    "\n",
    "    \n",
    "\"\"\")\n",
    "table2.show(20)\n",
    "table2.count()"
   ]
  },
  {
   "cell_type": "code",
   "execution_count": 10,
   "id": "2cb78363-e2a7-4196-9389-418e29072d39",
   "metadata": {},
   "outputs": [],
   "source": [
    "table2.createOrReplaceTempView(\"CommToAllCandRanked\")"
   ]
  },
  {
   "cell_type": "code",
   "execution_count": 11,
   "id": "30744262-0c9e-44b2-a79a-3b8e02c82a30",
   "metadata": {},
   "outputs": [
    {
     "name": "stdout",
     "output_type": "stream",
     "text": [
      "+---------+--------------------+--------------------+----------------+--------------+-----------+--------------------+-----------+---------+\n",
      "|  CAND_ID|           CAND_NAME|CAND_PTY_AFFILIATION|CAND_ELECTION_YR|CAND_OFFICE_ST|CAND_OFFICE|CAND_OFFICE_DISTRICT|CAND_STATUS| CAND_PCC|\n",
      "+---------+--------------------+--------------------+----------------+--------------+-----------+--------------------+-----------+---------+\n",
      "|H0AK00105|        LAMB, THOMAS|                 NNE|            2020|            AK|          H|                   -|          N|C00607515|\n",
      "|H0AL01055| CARL, JERRY LEE, JR|                 REP|            2022|            AL|          H|                  01|          C|C00697789|\n",
      "|H0AL01063|LAMBERT, DOUGLAS ...|                 REP|            2020|            AL|          H|                  01|          P|C00701557|\n",
      "|H0AL01097|     AVERHART, JAMES|                 DEM|            2020|            AL|          H|                  01|          P|C00708867|\n",
      "|H0AL02087|        ROBY, MARTHA|                 REP|            2020|            AL|          H|                  02|          P|C00462143|\n",
      "+---------+--------------------+--------------------+----------------+--------------+-----------+--------------------+-----------+---------+\n",
      "only showing top 5 rows\n",
      "\n"
     ]
    }
   ],
   "source": [
    "candMast = spark.read.format(\"csv\").options(delimiter='|',inferschema='true',header='true').load('data/cn(1).txt')\n",
    "candMast = candMast.drop(\"CAND_ICI\",\"CAND_ST1\",\"CAND_ST2\",\"CAND_CITY\",\"CAND_ST\",\"CAND_ZIP\")\n",
    "candMast.show(5)"
   ]
  },
  {
   "cell_type": "code",
   "execution_count": 12,
   "id": "ff1a686d-98ce-4fe9-9ff1-c6df4e515b85",
   "metadata": {},
   "outputs": [],
   "source": [
    "candMast.createOrReplaceTempView(\"tempcandMast\")\n",
    "# candMast.write.saveAsTable(\"tbl_candMast\")"
   ]
  },
  {
   "cell_type": "code",
   "execution_count": 13,
   "id": "d9f8d6ca-27f7-48ec-90d6-456d1daf47b6",
   "metadata": {},
   "outputs": [
    {
     "name": "stdout",
     "output_type": "stream",
     "text": [
      "+---------+--------------------+--------------------+----------------+--------------+-----------+--------------------+-----------+---------+\n",
      "|  CAND_ID|           CAND_NAME|CAND_PTY_AFFILIATION|CAND_ELECTION_YR|CAND_OFFICE_ST|CAND_OFFICE|CAND_OFFICE_DISTRICT|CAND_STATUS| CAND_PCC|\n",
      "+---------+--------------------+--------------------+----------------+--------------+-----------+--------------------+-----------+---------+\n",
      "|H0CA06170|     BISH, CHRISTINE|                 REP|            2022|            CA|          H|                   -|          C|C00721548|\n",
      "|H0DC01015|      KRUCOFF, DAVID|                 IND|            2020|            DC|          H|                   -|          P|C00719930|\n",
      "|H0DC00058|NORTON, ELEANOR H...|                 DEM|            2022|            DC|          H|                   -|          C|C00244335|\n",
      "|H0AS01016|CRICHTON, ORETA T...|                 DEM|            2020|            AS|          H|                   -|          P|C00755843|\n",
      "|H0DC00165|    MALONE, JOAN F M|                 REP|            2024|            DC|          H|                   -|          N|C00484477|\n",
      "+---------+--------------------+--------------------+----------------+--------------+-----------+--------------------+-----------+---------+\n",
      "only showing top 5 rows\n",
      "\n"
     ]
    }
   ],
   "source": [
    "test = spark.sql(\"\"\"\n",
    "SELECT * \n",
    "FROM tempcandMast \n",
    "ORDER BY CAND_OFFICE_DISTRICT ASC\n",
    "\"\"\")\n",
    "test.show(5)"
   ]
  },
  {
   "cell_type": "code",
   "execution_count": null,
   "id": "ea5e3dc6-fe88-4535-a16a-571722ca0051",
   "metadata": {},
   "outputs": [],
   "source": []
  },
  {
   "cell_type": "code",
   "execution_count": 14,
   "id": "ff2a4b6b-43e9-41c9-a334-d326078b83ca",
   "metadata": {},
   "outputs": [
    {
     "name": "stderr",
     "output_type": "stream",
     "text": [
      "[Stage 50:>                                                         (0 + 1) / 1]\r"
     ]
    },
    {
     "name": "stdout",
     "output_type": "stream",
     "text": [
      "+---------+---------+-------------+-------------+---------+--------------------+---------+--------------------+--------------+-----------+--------------------+\n",
      "|  CMTE_ID| OTHER_ID|TOTAL_DONATED|donation_rank|  CAND_ID|           CAND_NAME| CAND_PCC|CAND_PTY_AFFILIATION|CAND_OFFICE_ST|CAND_OFFICE|CAND_OFFICE_DISTRICT|\n",
      "+---------+---------+-------------+-------------+---------+--------------------+---------+--------------------+--------------+-----------+--------------------+\n",
      "|C90021668|H2OH09031|         5471|            1|H2OH09031|       KAPTUR, MARCY|C00154625|                 DEM|            OH|          H|                  09|\n",
      "|C90021650|H2OH13264|         3897|            1|H2OH13264|       SYKES, EMILIA|C00801274|                 DEM|            OH|          H|                  13|\n",
      "|C90021635|S6PA00274|         9629|            1|S6PA00274|FETTERMAN, JOHN KARL|C00765800|                 DEM|            PA|          S|                   -|\n",
      "|C90021619|S2OH00436|         3907|            1|S2OH00436|          VANCE, J D|C00783142|                 REP|            OH|          S|                   -|\n",
      "|C90021569|S2PA00638|        48595|            1|S2PA00638|       OZ, MEHMET DR|C00795930|                 REP|            PA|          S|                   -|\n",
      "|C90021551|H2NM02191|        51472|            1|H2NM02191|    VASQUEZ, GABRIEL|C00789404|                 DEM|            NM|          H|                  02|\n",
      "|C90021544|H2NY10324|        10000|            1|H2NY10324|     RIVERA, CARLINA|C00815795|                 DEM|            NY|          H|                  10|\n",
      "|C90021536|S0GA00559|        60588|            1|S0GA00559|    WARNOCK, RAPHAEL|C00736876|                 DEM|            GA|          S|                   -|\n",
      "|C90021536|S6PA00274|        52714|            2|S6PA00274|FETTERMAN, JOHN KARL|C00765800|                 DEM|            PA|          S|                   -|\n",
      "|C90021536|S2OH00402|        42226|            3|S2OH00402|       RYAN, TIMOTHY|C00777771|                 DEM|            OH|          S|                   -|\n",
      "|C90021536|S6NV00200|        32562|            4|S6NV00200|CORTEZ MASTO, CAT...|C00575548|                 DEM|            NV|          S|                   -|\n",
      "|C90021494|H8MI09118|         2500|            1|H8MI09118|         LEVIN, ANDY|C00662619|                 DEM|            MI|          H|                  11|\n",
      "|C90021452|S6NV00200|       540687|            1|S6NV00200|CORTEZ MASTO, CAT...|C00575548|                 DEM|            NV|          S|                   -|\n",
      "|C90021452|H2NV04011|       117059|            2|H2NV04011|HORSFORD, STEVEN ...|C00668228|                 DEM|            NV|          H|                  04|\n",
      "|C90021452|H8NV03036|        96323|            3|H8NV03036|         TITUS, DINA|C00499467|                 DEM|            NV|          H|                  01|\n",
      "|C90021452|H6NV04020|        71102|            4|H6NV04020|          LEE, SUSIE|C00655613|                 DEM|            NV|          H|                  03|\n",
      "|C90021411|H2AZ09241|         1582|            1|H2AZ09241|       LUCIER, DAVID|C00818567|                   W|            AZ|          H|                  09|\n",
      "|C90021403|S0WI00197|         2213|            1|S0WI00197|JOHNSON, RON HARO...|C00482984|                 REP|            WI|          S|                   -|\n",
      "|C90021403|S6NV00200|         2210|            2|S6NV00200|CORTEZ MASTO, CAT...|C00575548|                 DEM|            NV|          S|                   -|\n",
      "|C90021403|S0AZ00350|         2209|            3|S0AZ00350|         KELLY, MARK|C00696526|                 DEM|            AZ|          S|                   -|\n",
      "+---------+---------+-------------+-------------+---------+--------------------+---------+--------------------+--------------+-----------+--------------------+\n",
      "only showing top 20 rows\n",
      "\n"
     ]
    },
    {
     "name": "stderr",
     "output_type": "stream",
     "text": [
      "                                                                                \r"
     ]
    }
   ],
   "source": [
    "table3 = spark.sql(\"\"\"\n",
    "SELECT CommToAllCandRanked.CMTE_ID, CommToAllCandRanked.OTHER_ID, CommToAllCandRanked.TOTAL_DONATED, CommToAllCandRanked.donation_rank, \n",
    "tempcandMast.CAND_ID, tempcandMast.CAND_NAME, tempcandMast.CAND_PCC, tempcandMast.CAND_PTY_AFFILIATION, tempcandMast.CAND_OFFICE_ST, \n",
    "tempcandMast.CAND_OFFICE, tempcandMast.CAND_OFFICE_DISTRICT\n",
    "FROM CommToAllCandRanked\n",
    "JOIN tempcandMast\n",
    "ON (CommToAllCandRanked.OTHER_ID = tempcandMast.CAND_PCC OR CommToAllCandRanked.OTHER_ID = tempcandMast.CAND_ID)\n",
    "ORDER BY CommToAllCandRanked.CMTE_ID desc, CommToAllCandRanked.donation_rank asc\n",
    "\"\"\")\n",
    "table3.show(20)"
   ]
  },
  {
   "cell_type": "code",
   "execution_count": 15,
   "id": "f61daa78-d3ae-496c-9548-1f80bbe29fb6",
   "metadata": {},
   "outputs": [],
   "source": [
    "table3.createOrReplaceTempView(\"commToCandMerged\")"
   ]
  },
  {
   "cell_type": "code",
   "execution_count": 16,
   "id": "9e2a9997-15a1-4c90-9ec8-9bc763bc4a47",
   "metadata": {},
   "outputs": [
    {
     "name": "stderr",
     "output_type": "stream",
     "text": [
      "[Stage 63:>                                                         (0 + 1) / 1]\r"
     ]
    },
    {
     "name": "stdout",
     "output_type": "stream",
     "text": [
      "+---------+---------+-------------+-------------+---------+--------------------+---------+--------------------+--------------+-----------+--------------------+\n",
      "|  CMTE_ID| OTHER_ID|TOTAL_DONATED|donation_rank|  CAND_ID|           CAND_NAME| CAND_PCC|CAND_PTY_AFFILIATION|CAND_OFFICE_ST|CAND_OFFICE|CAND_OFFICE_DISTRICT|\n",
      "+---------+---------+-------------+-------------+---------+--------------------+---------+--------------------+--------------+-----------+--------------------+\n",
      "|C00000422|C00473371|         2000|          117|S0ND00093|        HOEVEN, JOHN|C00473371|                 REP|            ND|          S|                   -|\n",
      "|C00000729|C00476317|         5000|           73|S0AR00150|  BOOZMAN, SEN. JOHN|C00476317|                 REP|            AR|          S|                   -|\n",
      "|C00000422|C00458315|         2000|          120|S0KS00091|        MORAN, JERRY|C00458315|                 REP|            KS|          S|                   -|\n",
      "|C00000059|C00540732|         2500|            6|S4HI00136|       SCHATZ, BRIAN|C00540732|                 DEM|            HI|          S|                   -|\n",
      "|C00000422|C00459255|         1000|          131|S6IN00191|YOUNG, TODD CHRIS...|C00459255|                 REP|            IN|          S|                   -|\n",
      "|C00000422|C00308676|        10000|            9|S6OR00110|   WYDEN, RONALD LEE|C00308676|                 DEM|            OR|          S|                   -|\n",
      "|C00000422|C00765164|         1000|          135|S2CA00955|       PADILLA, ALEX|C00765164|                 DEM|            CA|          S|                   -|\n",
      "|C00000422|C00257642|         6000|           16|S2WA00189|       MURRAY, PATTY|C00257642|                 DEM|            WA|          S|                   -|\n",
      "|C00000422|C00458398|         1000|          141|S0CO00211|  BENNET, MICHAEL F.|C00458398|                 DEM|            CO|          S|                   -|\n",
      "|C00000422|C00476317|         5000|           31|S0AR00150|  BOOZMAN, SEN. JOHN|C00476317|                 REP|            AR|          S|                   -|\n",
      "|C00000422|C00736876|         1000|          146|S0GA00559|    WARNOCK, RAPHAEL|C00736876|                 DEM|            GA|          S|                   -|\n",
      "|C00000422|C00346312|         5000|           37|S8NY00082| SCHUMER, CHARLES E.|C00346312|                 DEM|            NY|          S|                   -|\n",
      "|C00000422|C00628917|         1000|          155|H8SD01055|      JOHNSON, DUSTY|C00628917|                 REP|            SD|          H|                   -|\n",
      "|C00000422|C00492991|         5000|           45|S0CT00177| BLUMENTHAL, RICHARD|C00492991|                 DEM|            CT|          S|                   -|\n",
      "|C00000422|C00413179|         1000|          171|H6VT00160|        WELCH, PETER|C00413179|                 DEM|            VT|          H|                   -|\n",
      "|C00000422|C00384529|         5000|           50|S4AK00099|     MURKOWSKI, LISA|C00384529|                 REP|            AK|          S|                   -|\n",
      "|C00000422|C00696526|         1000|          175|S0AZ00350|         KELLY, MARK|C00696526|                 DEM|            AZ|          S|                   -|\n",
      "|C00000422|C00575548|         3000|           68|S6NV00200|CORTEZ MASTO, CAT...|C00575548|                 DEM|            NV|          S|                   -|\n",
      "|C00000422|C00574889|         1000|          177|S6IL00292| DUCKWORTH, L. TAMMY|C00574889|                 DEM|            IL|          S|                   -|\n",
      "|C00000729|C00765164|        10000|           19|S2CA00955|       PADILLA, ALEX|C00765164|                 DEM|            CA|          S|                   -|\n",
      "+---------+---------+-------------+-------------+---------+--------------------+---------+--------------------+--------------+-----------+--------------------+\n",
      "only showing top 20 rows\n",
      "\n"
     ]
    },
    {
     "name": "stderr",
     "output_type": "stream",
     "text": [
      "                                                                                \r"
     ]
    }
   ],
   "source": [
    "table4 = spark.sql(\"\"\"\n",
    "select * \n",
    "from commToCandMerged\n",
    "order by CAND_OFFICE_DISTRICT asc\n",
    "\n",
    "\"\"\")\n",
    "table4.show(20)"
   ]
  },
  {
   "cell_type": "code",
   "execution_count": 59,
   "id": "bb07030b-7b17-44f3-bd20-0d3bdb7b2de3",
   "metadata": {},
   "outputs": [
    {
     "name": "stderr",
     "output_type": "stream",
     "text": [
      "                                                                                \r"
     ]
    },
    {
     "data": {
      "text/plain": [
       "122332"
      ]
     },
     "execution_count": 59,
     "metadata": {},
     "output_type": "execute_result"
    }
   ],
   "source": [
    "table4.count()"
   ]
  },
  {
   "cell_type": "code",
   "execution_count": 60,
   "id": "b6d773f8-ea07-4ea6-b867-592adbb58825",
   "metadata": {},
   "outputs": [
    {
     "name": "stdout",
     "output_type": "stream",
     "text": [
      "root\n",
      " |-- CMTE_ID: string (nullable = true)\n",
      " |-- OTHER_ID: string (nullable = true)\n",
      " |-- TOTAL_DONATED: long (nullable = true)\n",
      " |-- donation_rank: integer (nullable = false)\n",
      " |-- CAND_ID: string (nullable = true)\n",
      " |-- CAND_NAME: string (nullable = true)\n",
      " |-- CAND_PCC: string (nullable = true)\n",
      " |-- CAND_PTY_AFFILIATION: string (nullable = true)\n",
      " |-- CAND_OFFICE_ST: string (nullable = true)\n",
      " |-- CAND_OFFICE: string (nullable = true)\n",
      " |-- CAND_OFFICE_DISTRICT: string (nullable = true)\n",
      "\n"
     ]
    }
   ],
   "source": [
    "type(table3)\n",
    "table3.printSchema()"
   ]
  },
  {
   "cell_type": "code",
   "execution_count": 61,
   "id": "b884849a-040a-4fd1-9eed-bcf6bcead115",
   "metadata": {},
   "outputs": [
    {
     "name": "stdout",
     "output_type": "stream",
     "text": [
      "root\n",
      " |-- CMTE_ID: string (nullable = true)\n",
      " |-- committeeTable: array (nullable = true)\n",
      " |    |-- element: struct (containsNull = false)\n",
      " |    |    |-- CAND_NAME: string (nullable = true)\n",
      " |    |    |-- OTHER_ID: string (nullable = true)\n",
      " |    |    |-- TOTAL_DONATED: long (nullable = true)\n",
      " |    |    |-- donation_rank: integer (nullable = false)\n",
      " |    |    |-- CAND_ID: string (nullable = true)\n",
      " |    |    |-- CAND_PCC: string (nullable = true)\n",
      " |    |    |-- CAND_PTY_AFFILIATION: string (nullable = true)\n",
      " |    |    |-- CAND_OFFICE_ST: string (nullable = true)\n",
      " |    |    |-- CAND_OFFICE: string (nullable = true)\n",
      " |    |    |-- CAND_OFFICE_DISTRICT: string (nullable = true)\n",
      "\n"
     ]
    }
   ],
   "source": [
    "#get the comittee id\n",
    "cmteId = spark.sql(\"\"\"\n",
    "SELECT DISTINCT CMTE_ID\n",
    "FROM commToCandMerged\n",
    "\"\"\")\n",
    "\n",
    "noCmteId = spark.sql(\"\"\"\n",
    "SELECT CMTE_ID, CAND_NAME, OTHER_ID, TOTAL_DONATED, donation_rank, CAND_ID, CAND_PCC, CAND_PTY_AFFILIATION, CAND_OFFICE_ST, CAND_OFFICE, CAND_OFFICE_DISTRICT\n",
    "FROM commToCandMerged\n",
    "\"\"\")\n",
    "\n",
    "cmteTable = cmteId.join(\n",
    "    noCmteId\n",
    "        .groupBy(\"CMTE_ID\")\n",
    "        .agg(collect_list(struct(noCmteId.CAND_NAME, noCmteId.OTHER_ID, noCmteId.TOTAL_DONATED, noCmteId.donation_rank, noCmteId.CAND_ID, noCmteId.CAND_PCC\n",
    "                                , noCmteId.CAND_PTY_AFFILIATION, noCmteId.CAND_OFFICE_ST, noCmteId.CAND_OFFICE, noCmteId.CAND_OFFICE_DISTRICT)).alias(\"committeeTable\"))\n",
    "    , \"CMTE_ID\"\n",
    "    , \"outer\"\n",
    ")\n",
    "\n",
    "cmteTable.printSchema()"
   ]
  },
  {
   "cell_type": "code",
   "execution_count": 62,
   "id": "313610e4-f8ce-45b0-9ba2-650680e322e9",
   "metadata": {},
   "outputs": [
    {
     "name": "stderr",
     "output_type": "stream",
     "text": [
      "                                                                                \r"
     ]
    }
   ],
   "source": [
    "cmteTable.coalesce(1).write.format('json').save('out_cmte_infoPageRaw')"
   ]
  },
  {
   "cell_type": "code",
   "execution_count": null,
   "id": "ecc883fd-48be-4c50-ba96-92c5e11e9f84",
   "metadata": {},
   "outputs": [],
   "source": []
  }
 ],
 "metadata": {
  "kernelspec": {
   "display_name": "Python 3 (ipykernel)",
   "language": "python",
   "name": "python3"
  },
  "language_info": {
   "codemirror_mode": {
    "name": "ipython",
    "version": 3
   },
   "file_extension": ".py",
   "mimetype": "text/x-python",
   "name": "python",
   "nbconvert_exporter": "python",
   "pygments_lexer": "ipython3",
   "version": "3.10.6"
  }
 },
 "nbformat": 4,
 "nbformat_minor": 5
}
